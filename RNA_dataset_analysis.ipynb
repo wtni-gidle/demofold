{
 "cells": [
  {
   "cell_type": "markdown",
   "metadata": {},
   "source": [
    "Invalid characters in RNA or DNA：4912个文件\n",
    "\n",
    "Overlapping chains：570个文件，都在invalid里\n",
    "\n",
    "error：5\n",
    "\n",
    "其他文件：27"
   ]
  },
  {
   "cell_type": "markdown",
   "metadata": {},
   "source": [
    "统计：\n",
    "- overlap/invalid characters\n",
    "- 多少文件含有RNA\n",
    "- 总共多少条不同的RNA链\n",
    "- 链的长度分布\n",
    "- 各种filter"
   ]
  },
  {
   "cell_type": "markdown",
   "metadata": {},
   "source": [
    "### 1. Overview\n",
    "- PDB解析错误：5\n",
    "- 其他文件：27\n",
    "- 能正确解析的Protein/DNA/RNA的cif文件：212029"
   ]
  },
  {
   "cell_type": "code",
   "execution_count": 1,
   "metadata": {},
   "outputs": [],
   "source": [
    "import seaborn as sns\n",
    "import numpy as np\n",
    "import matplotlib.pyplot as plt\n",
    "import json\n",
    "with open(\"/expanse/ceph/projects/itasser/jlspzw/nwentao/pdb_mmcif/mmcif_cache.json\", \"r\") as f:\n",
    "    mmcif_cache = json.load(f)\n",
    "len(mmcif_cache)"
   ]
  },
  {
   "cell_type": "markdown",
   "metadata": {},
   "source": [
    "含有RNA链的cif文件"
   ]
  },
  {
   "cell_type": "code",
   "execution_count": null,
   "metadata": {},
   "outputs": [
    {
     "ename": "",
     "evalue": "",
     "output_type": "error",
     "traceback": [
      "\u001b[1;31m无法启动 Kernel。 \n",
      "\u001b[1;31m由于连接超时，无法启动 Kernel \"openfold (Python 3.9.7)\"。 \n",
      "\u001b[1;31m查看 Jupyter <a href='command:jupyter.viewOutput'>log</a>，了解更多详细信息。"
     ]
    }
   ],
   "source": [
    "has_rna = {}\n",
    "for k, v in mmcif_cache.items():\n",
    "    if v[\"no_chains\"][\"rna\"]:\n",
    "        has_rna[k] = v[\"no_chains\"][\"rna\"]\n",
    "len(has_rna)"
   ]
  },
  {
   "cell_type": "markdown",
   "metadata": {},
   "source": [
    "### 2. 排除overlap的文件"
   ]
  },
  {
   "cell_type": "code",
   "execution_count": null,
   "metadata": {},
   "outputs": [
    {
     "ename": "",
     "evalue": "",
     "output_type": "error",
     "traceback": [
      "\u001b[1;31m无法启动 Kernel。 \n",
      "\u001b[1;31m由于连接超时，无法启动 Kernel \"openfold (Python 3.9.7)\"。 \n",
      "\u001b[1;31m查看 Jupyter <a href='command:jupyter.viewOutput'>log</a>，了解更多详细信息。"
     ]
    }
   ],
   "source": [
    "with open(\"/expanse/ceph/projects/itasser/jlspzw/nwentao/pdb_mmcif/mmcif_cache_log.json\", \"r\") as f:\n",
    "    mmcif_cache_log = json.load(f)"
   ]
  },
  {
   "cell_type": "code",
   "execution_count": null,
   "metadata": {},
   "outputs": [
    {
     "ename": "",
     "evalue": "",
     "output_type": "error",
     "traceback": [
      "\u001b[1;31m无法启动 Kernel。 \n",
      "\u001b[1;31m由于连接超时，无法启动 Kernel \"openfold (Python 3.9.7)\"。 \n",
      "\u001b[1;31m查看 Jupyter <a href='command:jupyter.viewOutput'>log</a>，了解更多详细信息。"
     ]
    }
   ],
   "source": [
    "for k in mmcif_cache_log[\"overlap\"]:\n",
    "    mmcif_cache.pop(k)\n",
    "len(mmcif_cache)"
   ]
  },
  {
   "cell_type": "markdown",
   "metadata": {},
   "source": [
    "含有RNA链的cif文件"
   ]
  },
  {
   "cell_type": "code",
   "execution_count": null,
   "metadata": {},
   "outputs": [
    {
     "ename": "",
     "evalue": "",
     "output_type": "error",
     "traceback": [
      "\u001b[1;31m无法启动 Kernel。 \n",
      "\u001b[1;31m由于连接超时，无法启动 Kernel \"openfold (Python 3.9.7)\"。 \n",
      "\u001b[1;31m查看 Jupyter <a href='command:jupyter.viewOutput'>log</a>，了解更多详细信息。"
     ]
    }
   ],
   "source": [
    "has_rna = []\n",
    "for k, v in mmcif_cache.items():\n",
    "    if v[\"no_chains\"][\"rna\"]:\n",
    "        has_rna.append(k)\n",
    "len(has_rna)"
   ]
  },
  {
   "cell_type": "markdown",
   "metadata": {},
   "source": [
    "RNA单链总数"
   ]
  },
  {
   "cell_type": "code",
   "execution_count": null,
   "metadata": {},
   "outputs": [
    {
     "ename": "",
     "evalue": "",
     "output_type": "error",
     "traceback": [
      "\u001b[1;31m无法启动 Kernel。 \n",
      "\u001b[1;31m由于连接超时，无法启动 Kernel \"openfold (Python 3.9.7)\"。 \n",
      "\u001b[1;31m查看 Jupyter <a href='command:jupyter.viewOutput'>log</a>，了解更多详细信息。"
     ]
    }
   ],
   "source": [
    "rna_chains = {}\n",
    "for file_id in has_rna:\n",
    "    for chain_ids, chain in mmcif_cache[file_id][\"rna\"].items():\n",
    "        rna_chains[file_id + \"_\" + chain_ids] = chain\n",
    "len(rna_chains)"
   ]
  },
  {
   "cell_type": "markdown",
   "metadata": {},
   "source": [
    "### 过滤"
   ]
  },
  {
   "cell_type": "markdown",
   "metadata": {},
   "source": [
    "Resolution <= 4.5Å"
   ]
  },
  {
   "cell_type": "code",
   "execution_count": null,
   "metadata": {},
   "outputs": [
    {
     "ename": "",
     "evalue": "",
     "output_type": "error",
     "traceback": [
      "\u001b[1;31m无法启动 Kernel。 \n",
      "\u001b[1;31m由于连接超时，无法启动 Kernel \"openfold (Python 3.9.7)\"。 \n",
      "\u001b[1;31m查看 Jupyter <a href='command:jupyter.viewOutput'>log</a>，了解更多详细信息。"
     ]
    }
   ],
   "source": [
    "filter1 = []\n",
    "for file_id in has_rna:\n",
    "    if mmcif_cache[file_id][\"header\"][\"resolution\"] <= 4.5:\n",
    "        filter1.append(file_id)\n",
    "len(filter1)"
   ]
  },
  {
   "cell_type": "markdown",
   "metadata": {},
   "source": [
    "整理格式"
   ]
  },
  {
   "cell_type": "code",
   "execution_count": null,
   "metadata": {},
   "outputs": [
    {
     "ename": "",
     "evalue": "",
     "output_type": "error",
     "traceback": [
      "\u001b[1;31m无法启动 Kernel。 \n",
      "\u001b[1;31m由于连接超时，无法启动 Kernel \"openfold (Python 3.9.7)\"。 \n",
      "\u001b[1;31m查看 Jupyter <a href='command:jupyter.viewOutput'>log</a>，了解更多详细信息。"
     ]
    }
   ],
   "source": [
    "rna_chains = {}\n",
    "for file_id in filter1:\n",
    "    for chain_ids, chain in mmcif_cache[file_id][\"rna\"].items():\n",
    "        rna_chains[file_id + \"_\" + chain_ids] = chain"
   ]
  },
  {
   "cell_type": "markdown",
   "metadata": {},
   "source": [
    "将其他字符转化为X"
   ]
  },
  {
   "cell_type": "code",
   "execution_count": null,
   "metadata": {},
   "outputs": [
    {
     "ename": "",
     "evalue": "",
     "output_type": "error",
     "traceback": [
      "\u001b[1;31m无法启动 Kernel。 \n",
      "\u001b[1;31m由于连接超时，无法启动 Kernel \"openfold (Python 3.9.7)\"。 \n",
      "\u001b[1;31m查看 Jupyter <a href='command:jupyter.viewOutput'>log</a>，了解更多详细信息。"
     ]
    }
   ],
   "source": [
    "for k,v in rna_chains.items():\n",
    "    v = ''.join(['X' if nucleotide not in 'AUCG' else nucleotide for nucleotide in v])\n",
    "    rna_chains[k] = v"
   ]
  },
  {
   "cell_type": "markdown",
   "metadata": {},
   "source": [
    "链长统计"
   ]
  },
  {
   "cell_type": "code",
   "execution_count": null,
   "metadata": {},
   "outputs": [
    {
     "ename": "",
     "evalue": "",
     "output_type": "error",
     "traceback": [
      "\u001b[1;31m无法启动 Kernel。 \n",
      "\u001b[1;31m由于连接超时，无法启动 Kernel \"openfold (Python 3.9.7)\"。 \n",
      "\u001b[1;31m查看 Jupyter <a href='command:jupyter.viewOutput'>log</a>，了解更多详细信息。"
     ]
    }
   ],
   "source": [
    "lengths = list(map(lambda x:len(x), rna_chains.values()))"
   ]
  },
  {
   "cell_type": "code",
   "execution_count": null,
   "metadata": {},
   "outputs": [
    {
     "ename": "",
     "evalue": "",
     "output_type": "error",
     "traceback": [
      "\u001b[1;31m无法启动 Kernel。 \n",
      "\u001b[1;31m由于连接超时，无法启动 Kernel \"openfold (Python 3.9.7)\"。 \n",
      "\u001b[1;31m查看 Jupyter <a href='command:jupyter.viewOutput'>log</a>，了解更多详细信息。"
     ]
    }
   ],
   "source": [
    "lengths2 = np.array(lengths)\n",
    "lengths2 = lengths2[lengths2 <= 500]\n",
    "sns.histplot(lengths2, bins = 80)\n",
    "plt.title('Chain Length Distribution (<=500)')"
   ]
  },
  {
   "cell_type": "code",
   "execution_count": null,
   "metadata": {},
   "outputs": [
    {
     "ename": "",
     "evalue": "",
     "output_type": "error",
     "traceback": [
      "\u001b[1;31m无法启动 Kernel。 \n",
      "\u001b[1;31m由于连接超时，无法启动 Kernel \"openfold (Python 3.9.7)\"。 \n",
      "\u001b[1;31m查看 Jupyter <a href='command:jupyter.viewOutput'>log</a>，了解更多详细信息。"
     ]
    }
   ],
   "source": [
    "lengths2 = np.array(lengths)\n",
    "lengths2 = lengths2[lengths2 > 500]\n",
    "lengths2[lengths2 > 5000] = 5000\n",
    "sns.histplot(lengths2, bins = 80)\n",
    "plt.title('Chain Length Distribution (>500)')"
   ]
  },
  {
   "cell_type": "markdown",
   "metadata": {},
   "source": [
    "设置链长范围"
   ]
  },
  {
   "cell_type": "code",
   "execution_count": null,
   "metadata": {},
   "outputs": [
    {
     "ename": "",
     "evalue": "",
     "output_type": "error",
     "traceback": [
      "\u001b[1;31m无法启动 Kernel。 \n",
      "\u001b[1;31m由于连接超时，无法启动 Kernel \"openfold (Python 3.9.7)\"。 \n",
      "\u001b[1;31m查看 Jupyter <a href='command:jupyter.viewOutput'>log</a>，了解更多详细信息。"
     ]
    }
   ],
   "source": [
    "minl = 15\n",
    "maxl = np.inf\n",
    "valid_length = {}\n",
    "for k,v in rna_chains.items():\n",
    "    if len(v) <= maxl and len(v) >= minl:\n",
    "        valid_length[k] = v\n",
    "len(valid_length)"
   ]
  },
  {
   "cell_type": "markdown",
   "metadata": {},
   "source": [
    "Any single nucleotide accounts for more than 90%"
   ]
  },
  {
   "cell_type": "code",
   "execution_count": null,
   "metadata": {},
   "outputs": [
    {
     "ename": "",
     "evalue": "",
     "output_type": "error",
     "traceback": [
      "\u001b[1;31m无法启动 Kernel。 \n",
      "\u001b[1;31m由于连接超时，无法启动 Kernel \"openfold (Python 3.9.7)\"。 \n",
      "\u001b[1;31m查看 Jupyter <a href='command:jupyter.viewOutput'>log</a>，了解更多详细信息。"
     ]
    }
   ],
   "source": [
    "most_prop = []\n",
    "for k,v in rna_chains.items():\n",
    "    s = max(v, key=v.count)\n",
    "    most_prop.append(v.count(s)/len(v))\n",
    "sns.histplot(most_prop)\n",
    "plt.title('Maximum proportion of any single nucleotide')"
   ]
  },
  {
   "cell_type": "code",
   "execution_count": null,
   "metadata": {},
   "outputs": [
    {
     "ename": "",
     "evalue": "",
     "output_type": "error",
     "traceback": [
      "\u001b[1;31m无法启动 Kernel。 \n",
      "\u001b[1;31m由于连接超时，无法启动 Kernel \"openfold (Python 3.9.7)\"。 \n",
      "\u001b[1;31m查看 Jupyter <a href='command:jupyter.viewOutput'>log</a>，了解更多详细信息。"
     ]
    }
   ],
   "source": [
    "valid_most = {}\n",
    "for k,v in rna_chains.items():\n",
    "    s = max(v, key=v.count)\n",
    "    if v.count(s)/len(v) < 0.9:\n",
    "        valid_most[k] = v\n",
    "len(valid_most)"
   ]
  },
  {
   "cell_type": "markdown",
   "metadata": {},
   "source": [
    "Unknown nucleotide “X” accounts for more than 50%"
   ]
  },
  {
   "cell_type": "code",
   "execution_count": null,
   "metadata": {},
   "outputs": [
    {
     "ename": "",
     "evalue": "",
     "output_type": "error",
     "traceback": [
      "\u001b[1;31m无法启动 Kernel。 \n",
      "\u001b[1;31m由于连接超时，无法启动 Kernel \"openfold (Python 3.9.7)\"。 \n",
      "\u001b[1;31m查看 Jupyter <a href='command:jupyter.viewOutput'>log</a>，了解更多详细信息。"
     ]
    }
   ],
   "source": [
    "X_prop = []\n",
    "for k,v in rna_chains.items():\n",
    "    X_prop.append(v.count(\"X\")/len(v))"
   ]
  },
  {
   "cell_type": "code",
   "execution_count": null,
   "metadata": {},
   "outputs": [
    {
     "ename": "",
     "evalue": "",
     "output_type": "error",
     "traceback": [
      "\u001b[1;31m无法启动 Kernel。 \n",
      "\u001b[1;31m由于连接超时，无法启动 Kernel \"openfold (Python 3.9.7)\"。 \n",
      "\u001b[1;31m查看 Jupyter <a href='command:jupyter.viewOutput'>log</a>，了解更多详细信息。"
     ]
    }
   ],
   "source": [
    "(np.array(X_prop) > 0.05).sum()"
   ]
  },
  {
   "cell_type": "code",
   "execution_count": null,
   "metadata": {},
   "outputs": [
    {
     "ename": "",
     "evalue": "",
     "output_type": "error",
     "traceback": [
      "\u001b[1;31m无法启动 Kernel。 \n",
      "\u001b[1;31m由于连接超时，无法启动 Kernel \"openfold (Python 3.9.7)\"。 \n",
      "\u001b[1;31m查看 Jupyter <a href='command:jupyter.viewOutput'>log</a>，了解更多详细信息。"
     ]
    }
   ],
   "source": [
    "valid_X = {}\n",
    "for k,v in rna_chains.items():\n",
    "    if v.count(\"X\")/len(v) < 0.5:\n",
    "        valid_X[k] = v\n",
    "len(valid_X)"
   ]
  },
  {
   "cell_type": "markdown",
   "metadata": {},
   "source": [
    "最后剩下的链"
   ]
  },
  {
   "cell_type": "code",
   "execution_count": null,
   "metadata": {},
   "outputs": [
    {
     "ename": "",
     "evalue": "",
     "output_type": "error",
     "traceback": [
      "\u001b[1;31m无法启动 Kernel。 \n",
      "\u001b[1;31m由于连接超时，无法启动 Kernel \"openfold (Python 3.9.7)\"。 \n",
      "\u001b[1;31m查看 Jupyter <a href='command:jupyter.viewOutput'>log</a>，了解更多详细信息。"
     ]
    }
   ],
   "source": [
    "keys = set(valid_X.keys()) & set(valid_most.keys()) & set(valid_length.keys())\n",
    "valid_total = {k: rna_chains[k] for k in rna_chains if k in keys}\n",
    "len(valid_total)"
   ]
  },
  {
   "cell_type": "code",
   "execution_count": null,
   "metadata": {},
   "outputs": [
    {
     "data": {
      "text/plain": [
       "'4V9I|Chain AA'"
      ]
     },
     "metadata": {},
     "output_type": "display_data"
    }
   ],
   "source": [
    "string = '4v9i_AA'\n",
    "file_id, chain_ids = string.split(\"_\")\n",
    "chain_ids = chain_ids.split(\",\")\n",
    "term = \"Chains \" if len(chain_ids) > 1 else \"Chain \"\n",
    "file_id.upper() + \"|\" + term + \", \".join(chain_ids)"
   ]
  },
  {
   "cell_type": "code",
   "execution_count": 1,
   "metadata": {},
   "outputs": [
    {
     "name": "stderr",
     "output_type": "stream",
     "text": [
      "d:\\anaconda3\\envs\\scanpy\\lib\\site-packages\\tqdm\\auto.py:22: TqdmWarning: IProgress not found. Please update jupyter and ipywidgets. See https://ipywidgets.readthedocs.io/en/stable/user_install.html\n",
      "  from .autonotebook import tqdm as notebook_tqdm\n"
     ]
    }
   ],
   "source": [
    "from demofold.model.structure_module import StructureModule"
   ]
  },
  {
   "cell_type": "code",
   "execution_count": 2,
   "metadata": {},
   "outputs": [],
   "source": [
    "model = StructureModule(256, 128, 64, 32, 8, 4, 4, 0.02, 4, 1, 2, 6, 10, 1e-7, 1e7)"
   ]
  },
  {
   "cell_type": "code",
   "execution_count": 3,
   "metadata": {},
   "outputs": [],
   "source": [
    "import torch\n",
    "evoformer_output_dict = {\n",
    "    \"single\": torch.randn(4, 77, 256),\n",
    "    \"pair\": torch.randn(4, 77, 77, 128)\n",
    "}\n",
    "x = model(evoformer_output_dict)"
   ]
  }
 ],
 "metadata": {
  "kernelspec": {
   "display_name": "openfold",
   "language": "python",
   "name": "python3"
  },
  "language_info": {
   "codemirror_mode": {
    "name": "ipython",
    "version": 3
   },
   "file_extension": ".py",
   "mimetype": "text/x-python",
   "name": "python",
   "nbconvert_exporter": "python",
   "pygments_lexer": "ipython3",
   "version": "3.9.13"
  }
 },
 "nbformat": 4,
 "nbformat_minor": 2
}
